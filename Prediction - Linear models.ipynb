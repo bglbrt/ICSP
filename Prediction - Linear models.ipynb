{
 "cells": [
  {
   "cell_type": "markdown",
   "id": "f38ab969",
   "metadata": {},
   "source": [
    "# Prediction using Linear models"
   ]
  },
  {
   "cell_type": "markdown",
   "id": "fff37037",
   "metadata": {},
   "source": [
    "### Packages"
   ]
  },
  {
   "cell_type": "code",
   "execution_count": null,
   "id": "fce5911f",
   "metadata": {},
   "outputs": [],
   "source": [
    "# os libraries\n",
    "import os"
   ]
  },
  {
   "cell_type": "code",
   "execution_count": null,
   "id": "701c91b8",
   "metadata": {},
   "outputs": [],
   "source": [
    "# numerical libraries\n",
    "import numpy as np\n",
    "import pandas as pd"
   ]
  },
  {
   "cell_type": "code",
   "execution_count": null,
   "id": "bd315212",
   "metadata": {},
   "outputs": [],
   "source": [
    "# statistical learning libraries\n",
    "import sklearn.ensemble as ens\n",
    "import sklearn.feature_selection as fs\n",
    "import sklearn.model_selection as ms\n",
    "import sklearn.preprocessing as pr\n",
    "import sklearn.linear_model as lm\n",
    "import sklearn.neighbors as nb\n",
    "import sklearn.svm as sv\n",
    "import sklearn.neural_network as nn"
   ]
  },
  {
   "cell_type": "markdown",
   "id": "8eff5573",
   "metadata": {},
   "source": [
    "### Functions"
   ]
  },
  {
   "cell_type": "code",
   "execution_count": null,
   "id": "018f3ef9",
   "metadata": {},
   "outputs": [],
   "source": [
    "def MSE(model, X, y):\n",
    "    '''\n",
    "    Get MSE of model on test data.\n",
    "    \n",
    "    Arguments:\n",
    "        model: prediction model\n",
    "        \n",
    "    Returns:\n",
    "        score: MSE loss\n",
    "    '''\n",
    "    \n",
    "    # compute number of points in data\n",
    "    n = y.shape[0]\n",
    "    \n",
    "    # return loss\n",
    "    return (1/n) * np.sum(np.square(model.predict(X) - y))"
   ]
  },
  {
   "cell_type": "code",
   "execution_count": null,
   "id": "3623711b",
   "metadata": {},
   "outputs": [],
   "source": [
    "def export_results(model, X):\n",
    "    '''\n",
    "    Export results into CSV file for submission.\n",
    "    \n",
    "    Arguments:\n",
    "        model: regression model\n",
    "    '''\n",
    "    \n",
    "    # obtain predictions\n",
    "    pred = model.predict(X)\n",
    "    \n",
    "    # obtain index of data\n",
    "    idx = X.index\n",
    "    \n",
    "    # set in dataframe\n",
    "    df_results = pd.DataFrame({'_ID': idx, '0': pred})\n",
    "    \n",
    "    # save dataframe\n",
    "    df_results.to_csv('submissions/submit.csv', sep=',', index=False, index_label='_ID')"
   ]
  },
  {
   "cell_type": "markdown",
   "id": "967b6bd5",
   "metadata": {},
   "source": [
    "### Data Loading"
   ]
  },
  {
   "cell_type": "code",
   "execution_count": null,
   "id": "1672f712",
   "metadata": {},
   "outputs": [],
   "source": [
    "# read X_train\n",
    "df_X_train = pd.read_csv('data/input_training.csv', sep=',', header=0, index_col=0)\n",
    "X_train = df_X_train.values"
   ]
  },
  {
   "cell_type": "code",
   "execution_count": null,
   "id": "1228b4a7",
   "metadata": {},
   "outputs": [],
   "source": [
    "# read y_train\n",
    "df_y_train = pd.read_csv('data/output_training.csv', sep=',', header=0, index_col=0)\n",
    "y_train = df_y_train.values.ravel()"
   ]
  },
  {
   "cell_type": "code",
   "execution_count": null,
   "id": "049f084e",
   "metadata": {},
   "outputs": [],
   "source": [
    "# read X_test\n",
    "df_X_test = pd.read_csv('data/input_testing.csv', sep=',', header=0, index_col=0)\n",
    "X_test = df_X_test.values"
   ]
  },
  {
   "cell_type": "markdown",
   "id": "a1c6a625",
   "metadata": {},
   "source": [
    "### Data Visualisation"
   ]
  },
  {
   "cell_type": "code",
   "execution_count": null,
   "id": "e926992b",
   "metadata": {},
   "outputs": [],
   "source": [
    "import matplotlib.pyplot as plt\n",
    "\n",
    "plt.plot(np.sort(y_train))"
   ]
  },
  {
   "cell_type": "markdown",
   "id": "057ef88e",
   "metadata": {},
   "source": [
    "### Data Normalisation"
   ]
  },
  {
   "cell_type": "code",
   "execution_count": null,
   "id": "1f65d6be",
   "metadata": {},
   "outputs": [],
   "source": [
    "# concatenate train and test datasets\n",
    "df = pd.concat([df_X_train, df_X_test])\n",
    "\n",
    "# initialise and fit StandardScaler\n",
    "scaler = pr.MinMaxScaler().fit(df)\n",
    "\n",
    "# create scaled dataset\n",
    "df_scaled = scaler.transform(df)\n",
    "\n",
    "# convert scaled dataset to DataFrame\n",
    "df = pd.DataFrame(df_scaled, index=df.index, columns=df.columns)"
   ]
  },
  {
   "cell_type": "code",
   "execution_count": null,
   "id": "bd3c43e3",
   "metadata": {},
   "outputs": [],
   "source": [
    "# truncate to retrieve df_X_train\n",
    "df_X_train = df.truncate(before=None, after=df_X_train.shape[0])\n",
    "X_train = df_X_train.values\n",
    "\n",
    "# truncate to retrieve df_X_test\n",
    "df_X_test = df.truncate(before=df_X_train.shape[0]+1, after=None)\n",
    "X_test = df_X_test.values"
   ]
  },
  {
   "cell_type": "markdown",
   "id": "4925910c",
   "metadata": {},
   "source": [
    "### Exploration and creation of an augmented dataset"
   ]
  },
  {
   "cell_type": "code",
   "execution_count": null,
   "id": "ec62be29",
   "metadata": {
    "scrolled": false
   },
   "outputs": [],
   "source": [
    "# create summary train dataset\n",
    "summary = pd.DataFrame(columns=['Mean', 'Standard deviation', 'Range', 'Number of values', 'Values'], index=df.columns)\n",
    "\n",
    "# create Pandas summary train dataset\n",
    "summary_df = df.describe()\n",
    "\n",
    "# compute statistics for each feature\n",
    "for feature in df.columns:\n",
    "    mean = summary_df[feature][1]\n",
    "    std = summary_df[feature][2]\n",
    "    min = summary_df[feature][3]\n",
    "    max = summary_df[feature][7]\n",
    "    values = set(df[feature])\n",
    "    n_values = len(set(values))\n",
    "    \n",
    "    # populate dataset if n_values <= 10\n",
    "    if n_values <= 50:\n",
    "        summary.loc[feature] = pd.Series({'Mean':'{:0.2f}'.format(mean),\\\n",
    "                                          'Standard deviation':'{:0.2f}'.format(std),\\\n",
    "                                          'Range':'[{:0.2f}, {:0.2f}]'.format(min, max),\\\n",
    "                                          'Number of values':'{:0.0f}'.format(n_values),\\\n",
    "                                          'Values':', '.join([\"{:0.2f}\".format(x) for x in sorted(values)])})\n",
    "        \n",
    "    \n",
    "    # populate dataset otherwise\n",
    "    else:\n",
    "        summary.loc[feature] = pd.Series({'Mean':'{:0.2f}'.format(mean),\\\n",
    "                                          'Standard deviation':'{:0.2f}'.format(std),\\\n",
    "                                          'Range':'[{:0.2f}, {:0.2f}]'.format(min, max),\\\n",
    "                                          'Number of values':'{:0.0f}'.format(n_values),\\\n",
    "                                          'Values':'NA'})"
   ]
  },
  {
   "cell_type": "code",
   "execution_count": null,
   "id": "19ab1bd7",
   "metadata": {},
   "outputs": [],
   "source": [
    "summary"
   ]
  },
  {
   "cell_type": "code",
   "execution_count": null,
   "id": "1aadb97f",
   "metadata": {},
   "outputs": [],
   "source": [
    "# uncomment to retrieve categorical features\n",
    "\n",
    "#for x in summary.index:\n",
    "#    print(x, summary.loc[x]['Values'])"
   ]
  },
  {
   "cell_type": "code",
   "execution_count": null,
   "id": "6e445051",
   "metadata": {},
   "outputs": [],
   "source": [
    "# set list of categorical features\n",
    "categorical_features = ['X3', 'X6', 'X11', 'X15', 'X16', 'X18', 'X19', 'X22', 'X28', 'X32', 'X33', 'X35', 'X36',\n",
    "                        'X42', 'X49', 'X56', 'X58', 'X60', 'X62', 'X64', 'X68', 'X73', 'X74', 'X83', 'X86', 'X90',\n",
    "                        'X104', 'X108', 'X109', 'X116', 'X117', 'X122', 'X130', 'X137', 'X139', 'X140', 'X141',\n",
    "                        'X143', 'X144', 'X148', 'X149', 'X151', 'X162', 'X168', 'X169', 'X172', 'X174', 'X176',\n",
    "                        'X177', 'X182', 'X184', 'X186', 'X187', 'X192', 'X193', 'X195', 'X196', 'X197', 'X199',\n",
    "                        'X206', 'X209', 'X217', 'X219', 'X222', 'X231', 'X235', 'X238', 'X242', 'X246', 'X256',\n",
    "                        'X260', 'X270', 'X275', 'X281', 'X285', 'X286', 'X291', 'X298', 'X301', 'X303', 'X304',\n",
    "                        'X307', 'X308', 'X312', 'X314', 'X318', 'X330', 'X332', 'X336', 'X337', 'X338']"
   ]
  },
  {
   "cell_type": "code",
   "execution_count": null,
   "id": "103009fd",
   "metadata": {},
   "outputs": [],
   "source": [
    "# set list of categorical features with exactly two possible values\n",
    "categorical_features_two = summary[summary['Number of values'].astype(int) == 2].index"
   ]
  },
  {
   "cell_type": "code",
   "execution_count": null,
   "id": "ad690783",
   "metadata": {},
   "outputs": [],
   "source": [
    "# set list of categorical features with strictly more than two possible values\n",
    "categorical_features_more_than_two = [x for x in categorical_features if x not in categorical_features_two]"
   ]
  },
  {
   "cell_type": "code",
   "execution_count": null,
   "id": "5a17c07e",
   "metadata": {},
   "outputs": [],
   "source": [
    "# create augmented train dataset by one-hot encoding features with strictly more than two possible values\n",
    "df_augmented = df.copy()\n",
    "for feature in categorical_features_more_than_two:\n",
    "    _ = pd.get_dummies(df[feature])\n",
    "    _.columns = [feature+'-'+str(i) for i in range(1, len(_.columns)+1)]\n",
    "    df_augmented = df_augmented.drop(feature, axis = 1)\n",
    "    df_augmented = df_augmented.join(_)"
   ]
  },
  {
   "cell_type": "code",
   "execution_count": null,
   "id": "3c91d8cc",
   "metadata": {},
   "outputs": [],
   "source": [
    "# truncate to retrieve df_X_train\n",
    "df_X_train_augmented = df_augmented.truncate(before=None, after=df_X_train.shape[0])\n",
    "X_train_augmented = df_X_train_augmented.values\n",
    "\n",
    "# truncate to retrieve df_X_test\n",
    "df_X_test_augmented = df_augmented.truncate(before=df_X_train.shape[0]+1, after=None)\n",
    "X_test_augmented = df_X_test_augmented.values"
   ]
  },
  {
   "cell_type": "code",
   "execution_count": null,
   "id": "744b2024",
   "metadata": {},
   "outputs": [],
   "source": [
    "# create validation dataset\n",
    "Xt, Xv, yt, yv = ms.train_test_split(X_train, y_train, test_size=0.2, random_state=1)"
   ]
  },
  {
   "cell_type": "code",
   "execution_count": null,
   "id": "5c4982c9",
   "metadata": {},
   "outputs": [],
   "source": [
    "# create validation augmented dataset\n",
    "Xta, Xva, yta, yva = ms.train_test_split(X_train_augmented, y_train, test_size=0.2, random_state=1)"
   ]
  },
  {
   "cell_type": "markdown",
   "id": "0b204fd0",
   "metadata": {},
   "source": [
    "### Feature selection"
   ]
  },
  {
   "cell_type": "code",
   "execution_count": null,
   "id": "024be465",
   "metadata": {},
   "outputs": [],
   "source": [
    "# set dataset with feature selection\n",
    "Xfs = fs.SelectKBest(fs.f_regression, k=225).fit_transform(X_train_augmented, y_train)"
   ]
  },
  {
   "cell_type": "code",
   "execution_count": null,
   "id": "134c3c4f",
   "metadata": {},
   "outputs": [],
   "source": [
    "# create validation augmented dataset\n",
    "Xtfs, Xvfs, ytfs, yvfs = ms.train_test_split(Xfs, y_train, test_size=0.2, random_state=1)"
   ]
  },
  {
   "cell_type": "code",
   "execution_count": null,
   "id": "8e3c329b",
   "metadata": {
    "scrolled": false
   },
   "outputs": [],
   "source": [
    "# print shape of datasets\n",
    "print('Train data shape:', Xt.shape)\n",
    "print('Train data (augmented) shape:', Xta.shape)\n",
    "print('Train data (feature selection) shape:', Xtfs.shape)"
   ]
  },
  {
   "cell_type": "markdown",
   "id": "040c6c51",
   "metadata": {},
   "source": [
    "### Prediction"
   ]
  },
  {
   "cell_type": "markdown",
   "id": "d509852b",
   "metadata": {},
   "source": [
    "#### OLS regression"
   ]
  },
  {
   "cell_type": "code",
   "execution_count": null,
   "id": "df6046d4",
   "metadata": {},
   "outputs": [],
   "source": [
    "# compute OLS on data\n",
    "model = lm.LinearRegression().fit(Xt, yt)\n",
    "\n",
    "# print score\n",
    "print('OLS score (train):', MSE(model, Xt, yt))\n",
    "print('OLS score (val):', MSE(model, Xv, yv))"
   ]
  },
  {
   "cell_type": "code",
   "execution_count": null,
   "id": "88b9ac3e",
   "metadata": {},
   "outputs": [],
   "source": [
    "# compute OLS on augmented data\n",
    "model = lm.LinearRegression().fit(Xta, yta)\n",
    "\n",
    "# print score\n",
    "print('OLS score (augmented data) (train):', MSE(model, Xta, yta))\n",
    "print('OLS score (augmented data) (val):', MSE(model, Xva, yva))"
   ]
  },
  {
   "cell_type": "code",
   "execution_count": null,
   "id": "5ee2ebd8",
   "metadata": {},
   "outputs": [],
   "source": [
    "# compute OLS on data with feature selection\n",
    "model = lm.LinearRegression().fit(Xtfs, ytfs)\n",
    "\n",
    "# print score\n",
    "print('OLS score (feature selection) (train):', MSE(model, Xtfs, ytfs))\n",
    "print('OLS score (feature selection) (val):', MSE(model, Xvfs, yvfs))"
   ]
  },
  {
   "cell_type": "markdown",
   "id": "a89d4fe1",
   "metadata": {},
   "source": [
    "#### Ridge regression"
   ]
  },
  {
   "cell_type": "code",
   "execution_count": null,
   "id": "ca0faed0",
   "metadata": {},
   "outputs": [],
   "source": [
    "# compute Ridge on data\n",
    "model = lm.Ridge().fit(Xt, yt)\n",
    "\n",
    "# print score\n",
    "print('Ridge score (train):', MSE(model, Xt, yt))\n",
    "print('Ridge score (val):', MSE(model, Xv, yv))"
   ]
  },
  {
   "cell_type": "code",
   "execution_count": null,
   "id": "d87c48c6",
   "metadata": {},
   "outputs": [],
   "source": [
    "# compute Ridge on augmented data\n",
    "model = lm.Ridge().fit(Xta, yta)\n",
    "\n",
    "# print score\n",
    "print('Ridge score (augmented data) (train):', MSE(model, Xta, yta))\n",
    "print('Ridge score (augmented data) (val):', MSE(model, Xva, yva))"
   ]
  },
  {
   "cell_type": "code",
   "execution_count": null,
   "id": "27a0e4cd",
   "metadata": {},
   "outputs": [],
   "source": [
    "# compute Ridge on data with feature selection\n",
    "model = lm.Ridge().fit(Xtfs, ytfs)\n",
    "\n",
    "# print score\n",
    "print('Ridge score (feature selection) (train):', MSE(model, Xtfs, ytfs))\n",
    "print('Ridge score (feature selection) (val):', MSE(model, Xvfs, yvfs))"
   ]
  },
  {
   "cell_type": "markdown",
   "id": "81c4e9c3",
   "metadata": {},
   "source": [
    "#### Ridge regression (CV)"
   ]
  },
  {
   "cell_type": "code",
   "execution_count": null,
   "id": "643496bb",
   "metadata": {},
   "outputs": [],
   "source": [
    "# compute Ridge CV on data\n",
    "model = lm.RidgeCV(cv=10).fit(Xt, yt)\n",
    "\n",
    "# print score\n",
    "print('Ridge CV score (train):', MSE(model, Xt, yt))\n",
    "print('Ridge CV score (val):', MSE(model, Xv, yv))"
   ]
  },
  {
   "cell_type": "code",
   "execution_count": null,
   "id": "3d805b7f",
   "metadata": {},
   "outputs": [],
   "source": [
    "# compute Ridge CV on augmented data\n",
    "model = lm.RidgeCV(cv=10).fit(Xta, yta)\n",
    "\n",
    "# print score\n",
    "print('Ridge CV score (augmented data) (train):', MSE(model, Xta, yta))\n",
    "print('Ridge CV score (augmented data) (val):', MSE(model, Xva, yva))"
   ]
  },
  {
   "cell_type": "code",
   "execution_count": null,
   "id": "7c6a57c9",
   "metadata": {},
   "outputs": [],
   "source": [
    "# compute Ridge CV on data with feature selection\n",
    "model = lm.RidgeCV(cv=10).fit(Xtfs, ytfs)\n",
    "\n",
    "# print score\n",
    "print('Ridge CV score (feature selection) (train):', MSE(model, Xtfs, ytfs))\n",
    "print('Ridge CV score (feature selection) (val):', MSE(model, Xvfs, yvfs))"
   ]
  },
  {
   "cell_type": "markdown",
   "id": "1be0d241",
   "metadata": {},
   "source": [
    "#### LASSO regression"
   ]
  },
  {
   "cell_type": "code",
   "execution_count": null,
   "id": "c5e0419f",
   "metadata": {},
   "outputs": [],
   "source": [
    "# compute LASSO on data\n",
    "model = lm.Lasso().fit(Xt, yt)\n",
    "\n",
    "# print score\n",
    "print('LASSO score (train):', MSE(model, Xt, yt))\n",
    "print('LASSO score (val):', MSE(model, Xv, yv))"
   ]
  },
  {
   "cell_type": "code",
   "execution_count": null,
   "id": "203376d3",
   "metadata": {
    "scrolled": true
   },
   "outputs": [],
   "source": [
    "# compute LASSO on augmented data\n",
    "model = lm.Lasso().fit(Xta, yta)\n",
    "\n",
    "# print score\n",
    "print('LASSO score (augmented data) (train):', MSE(model, Xta, yta))\n",
    "print('LASSO score (augmented data) (val):', MSE(model, Xva, yva))"
   ]
  },
  {
   "cell_type": "code",
   "execution_count": null,
   "id": "dde1375d",
   "metadata": {},
   "outputs": [],
   "source": [
    "# compute LASSO on data with feature selection\n",
    "model = lm.Lasso().fit(Xtfs, ytfs)\n",
    "\n",
    "# print score\n",
    "print('LASSO score (feature selection) (train):', MSE(model, Xtfs, ytfs))\n",
    "print('LASSO score (feature selection) (val):', MSE(model, Xvfs, yvfs))"
   ]
  },
  {
   "cell_type": "markdown",
   "id": "4207ce12",
   "metadata": {},
   "source": [
    "#### LASSO regression (CV)"
   ]
  },
  {
   "cell_type": "code",
   "execution_count": null,
   "id": "57bbe2a5",
   "metadata": {},
   "outputs": [],
   "source": [
    "# compute LASSO CV on data\n",
    "model = lm.LassoCV(cv=10, max_iter=10000).fit(Xt, yt)\n",
    "\n",
    "# print score\n",
    "print('LASSO CV score (train):', MSE(model, Xt, yt))\n",
    "print('LASSO CV score (val):', MSE(model, Xv, yv))"
   ]
  },
  {
   "cell_type": "code",
   "execution_count": null,
   "id": "45906d44",
   "metadata": {
    "scrolled": true
   },
   "outputs": [],
   "source": [
    "# compute LASSO CV on augmented data\n",
    "model = lm.LassoCV(cv=10, max_iter=10000).fit(Xta, yta)\n",
    "\n",
    "# print score\n",
    "print('LASSO CV score (augmented data) (train):', MSE(model, Xta, yta))\n",
    "print('LASSO CV score (augmented data) (val):', MSE(model, Xva, yva))"
   ]
  },
  {
   "cell_type": "code",
   "execution_count": null,
   "id": "7845d687",
   "metadata": {},
   "outputs": [],
   "source": [
    "# compute LASSO CV on data with feature selection\n",
    "model = lm.LassoCV(cv=10).fit(Xtfs, ytfs)\n",
    "\n",
    "# print score\n",
    "print('LASSO CV score (feature selection) (train):', MSE(model, Xtfs, ytfs))\n",
    "print('LASSO CV score (feature selection) (val):', MSE(model, Xvfs, yvfs))"
   ]
  },
  {
   "cell_type": "markdown",
   "id": "d4e1f8da",
   "metadata": {},
   "source": [
    "#### ElasticNet regression"
   ]
  },
  {
   "cell_type": "code",
   "execution_count": null,
   "id": "328831ee",
   "metadata": {},
   "outputs": [],
   "source": [
    "# compute ElasticNet on data\n",
    "model = lm.ElasticNet().fit(Xt, yt)\n",
    "\n",
    "# print score\n",
    "print('ElasticNet score (train):', MSE(model, Xt, yt))\n",
    "print('ElasticNet score (val):', MSE(model, Xv, yv))"
   ]
  },
  {
   "cell_type": "code",
   "execution_count": null,
   "id": "d216e3dc",
   "metadata": {
    "scrolled": true
   },
   "outputs": [],
   "source": [
    "# compute ElasticNet on augmented data\n",
    "model = lm.ElasticNet().fit(Xta, yta)\n",
    "\n",
    "# print score\n",
    "print('ElasticNet score (augmented data) (train):', MSE(model, Xta, yta))\n",
    "print('ElasticNet score (augmented data) (val):', MSE(model, Xva, yva))"
   ]
  },
  {
   "cell_type": "code",
   "execution_count": null,
   "id": "057a8d48",
   "metadata": {},
   "outputs": [],
   "source": [
    "# compute ElasticNet on data with feature selection\n",
    "model = lm.ElasticNet().fit(Xtfs, ytfs)\n",
    "\n",
    "# print score\n",
    "print('ElasticNet score (feature selection) (train):', MSE(model, Xtfs, ytfs))\n",
    "print('ElasticNet score (feature selection) (val):', MSE(model, Xvfs, yvfs))"
   ]
  },
  {
   "cell_type": "markdown",
   "id": "b78457bb",
   "metadata": {},
   "source": [
    "#### ElasticNet regression (CV)"
   ]
  },
  {
   "cell_type": "code",
   "execution_count": null,
   "id": "737ed036",
   "metadata": {},
   "outputs": [],
   "source": [
    "# compute ElasticNet CV on data\n",
    "model = lm.ElasticNetCV(cv=10, max_iter=10000).fit(Xt, yt)\n",
    "\n",
    "# print score\n",
    "print('ElasticNet CV score (train):', MSE(model, Xt, yt))\n",
    "print('ElasticNet CV score (val):', MSE(model, Xv, yv))"
   ]
  },
  {
   "cell_type": "code",
   "execution_count": null,
   "id": "4de3cc9c",
   "metadata": {
    "scrolled": true
   },
   "outputs": [],
   "source": [
    "# compute ElasticNet CV on augmented data\n",
    "model = lm.ElasticNetCV(cv=10, max_iter=10000).fit(Xta, yta)\n",
    "\n",
    "# print score\n",
    "print('ElasticNet CV score (augmented data) (train):', MSE(model, Xta, yta))\n",
    "print('ElasticNet CV score (augmented data) (val):', MSE(model, Xva, yva))"
   ]
  },
  {
   "cell_type": "code",
   "execution_count": null,
   "id": "efacf3eb",
   "metadata": {},
   "outputs": [],
   "source": [
    "# compute ElasticNet CV on data with feature selection\n",
    "model = lm.ElasticNetCV().fit(Xtfs, ytfs)\n",
    "\n",
    "# print score\n",
    "print('ElasticNet CV score (feature selection) (train):', MSE(model, Xtfs, ytfs))\n",
    "print('ElasticNet CV score (feature selection) (val):', MSE(model, Xvfs, yvfs))"
   ]
  },
  {
   "cell_type": "markdown",
   "id": "6de5b513",
   "metadata": {},
   "source": [
    "#### Huber regressor"
   ]
  },
  {
   "cell_type": "code",
   "execution_count": null,
   "id": "b381463f",
   "metadata": {},
   "outputs": [],
   "source": [
    "# compute Huber regressor on data\n",
    "model = lm.HuberRegressor(max_iter=10000).fit(Xt, yt)\n",
    "\n",
    "# print score\n",
    "print('Huber score (train):', MSE(model, Xt, yt))\n",
    "print('Huber score (val):', MSE(model, Xv, yv))"
   ]
  },
  {
   "cell_type": "code",
   "execution_count": null,
   "id": "410f1880",
   "metadata": {
    "scrolled": true
   },
   "outputs": [],
   "source": [
    "# compute Huber regressor on augmented data\n",
    "model = lm.HuberRegressor(max_iter=10000).fit(Xta, yta)\n",
    "\n",
    "# print score\n",
    "print('Huber score (augmented data) (train):', MSE(model, Xta, yta))\n",
    "print('Huber score (augmented data) (val):', MSE(model, Xva, yva))"
   ]
  },
  {
   "cell_type": "code",
   "execution_count": null,
   "id": "8267667d",
   "metadata": {},
   "outputs": [],
   "source": [
    "# compute Huber regressor on data with feature selection\n",
    "model = lm.HuberRegressor().fit(Xtfs, ytfs)\n",
    "\n",
    "# print score\n",
    "print('Huber score (feature selection) (train):', MSE(model, Xtfs, ytfs))\n",
    "print('Huber score (feature selection) (val):', MSE(model, Xvfs, yvfs))"
   ]
  },
  {
   "cell_type": "markdown",
   "id": "cf71766f",
   "metadata": {},
   "source": [
    "#### SVR (RBF)"
   ]
  },
  {
   "cell_type": "code",
   "execution_count": null,
   "id": "b18186ab",
   "metadata": {},
   "outputs": [],
   "source": [
    "# compute SVR (RBF) on data\n",
    "model = sv.SVR().fit(Xt, yt)\n",
    "\n",
    "# print score\n",
    "print('SVR (RBF) score (train):', MSE(model, Xt, yt))\n",
    "print('SVR (RBF) score (val):', MSE(model, Xv, yv))"
   ]
  },
  {
   "cell_type": "code",
   "execution_count": null,
   "id": "2d0e9278",
   "metadata": {},
   "outputs": [],
   "source": [
    "# compute SVR (RBF) on augmented data\n",
    "model = sv.SVR().fit(Xta, yta)\n",
    "\n",
    "# print score\n",
    "print('SVR (RBF) score (augmented data) (train):', MSE(model, Xta, yta))\n",
    "print('SVR (RBF) score (augmented data) (val):', MSE(model, Xva, yva))"
   ]
  },
  {
   "cell_type": "code",
   "execution_count": null,
   "id": "485b1c21",
   "metadata": {},
   "outputs": [],
   "source": [
    "# compute SVR (RBF) on data with feature selection\n",
    "model = sv.SVR().fit(Xtfs, ytfs)\n",
    "\n",
    "# print score\n",
    "print('SVR (RBF) score (feature selection) (train):', MSE(model, Xtfs, ytfs))\n",
    "print('SVR (RBF) score (feature selection) (val):', MSE(model, Xvfs, yvfs))"
   ]
  },
  {
   "cell_type": "markdown",
   "id": "ee182064",
   "metadata": {},
   "source": [
    "#### SVR (polynomial)"
   ]
  },
  {
   "cell_type": "code",
   "execution_count": null,
   "id": "6fa807ed",
   "metadata": {},
   "outputs": [],
   "source": [
    "# compute SVR (polynomial) on data\n",
    "model = sv.SVR(kernel='poly').fit(Xt, yt)\n",
    "\n",
    "# print score\n",
    "print('SVR (polynomial) score (train):', MSE(model, Xt, yt))\n",
    "print('SVR (polynomial) score (val):', MSE(model, Xv, yv))"
   ]
  },
  {
   "cell_type": "code",
   "execution_count": null,
   "id": "7a837b7b",
   "metadata": {},
   "outputs": [],
   "source": [
    "# compute SVR (polynomial) on augmented data\n",
    "model = sv.SVR(kernel='poly').fit(Xta, yta)\n",
    "\n",
    "# print score\n",
    "print('SVR (polynomial) score (augmented data) (train):', MSE(model, Xta, yta))\n",
    "print('SVR (polynomial) score (augmented data) (val):', MSE(model, Xva, yva))"
   ]
  },
  {
   "cell_type": "code",
   "execution_count": null,
   "id": "c603bdd5",
   "metadata": {},
   "outputs": [],
   "source": [
    "# compute SVR (polynomial) on data with feature selection\n",
    "model = sv.SVR(kernel='poly').fit(Xtfs, ytfs)\n",
    "\n",
    "# print score\n",
    "print('SVR (polynomial) score (feature selection) (train):', MSE(model, Xtfs, ytfs))\n",
    "print('SVR (polynomial) score (feature selection) (val):', MSE(model, Xvfs, yvfs))"
   ]
  },
  {
   "cell_type": "markdown",
   "id": "afbd312a",
   "metadata": {},
   "source": [
    "#### kNN"
   ]
  },
  {
   "cell_type": "code",
   "execution_count": null,
   "id": "3cd83fcc",
   "metadata": {},
   "outputs": [],
   "source": [
    "# compute kNN on data\n",
    "model = nb.KNeighborsRegressor(n_neighbors=5).fit(Xt, yt)\n",
    "\n",
    "# print score\n",
    "print('kNN score (train):', MSE(model, Xt, yt))\n",
    "print('kNN score (val):', MSE(model, Xv, yv))"
   ]
  },
  {
   "cell_type": "code",
   "execution_count": null,
   "id": "e08fdd7b",
   "metadata": {
    "scrolled": true
   },
   "outputs": [],
   "source": [
    "# compute kNN on augmented data\n",
    "model = nb.KNeighborsRegressor(n_neighbors=5).fit(Xta, yta)\n",
    "\n",
    "# print score\n",
    "print('kNN score (augmented data) (train):', MSE(model, Xta, yta))\n",
    "print('kNN score (augmented data) (val):', MSE(model, Xva, yva))"
   ]
  },
  {
   "cell_type": "code",
   "execution_count": null,
   "id": "1213c3e2",
   "metadata": {},
   "outputs": [],
   "source": [
    "# compute kNN on data with feature selection\n",
    "model = nb.KNeighborsRegressor(n_neighbors=5).fit(Xtfs, ytfs)\n",
    "\n",
    "# print score\n",
    "print('kNN score (feature selection) (train):', MSE(model, Xtfs, ytfs))\n",
    "print('kNN score (feature selection) (val):', MSE(model, Xvfs, yvfs))"
   ]
  },
  {
   "cell_type": "markdown",
   "id": "09565192",
   "metadata": {},
   "source": [
    "#### Neural Network"
   ]
  },
  {
   "cell_type": "code",
   "execution_count": null,
   "id": "5bc4d30e",
   "metadata": {},
   "outputs": [],
   "source": [
    "# compute NN on data\n",
    "model = nn.MLPRegressor(hidden_layer_sizes=(32, 16), early_stopping=True, alpha=5.0).fit(Xt, yt)\n",
    "\n",
    "# print score\n",
    "print('NN score (train):', MSE(model, Xt, yt))\n",
    "print('NN score (val):', MSE(model, Xv, yv))"
   ]
  },
  {
   "cell_type": "code",
   "execution_count": null,
   "id": "b39fe31b",
   "metadata": {
    "scrolled": true
   },
   "outputs": [],
   "source": [
    "# compute NN on augmented data\n",
    "model = nn.MLPRegressor(hidden_layer_sizes=(32, 16), early_stopping=True, alpha=1.0).fit(Xta, yta)\n",
    "\n",
    "# print score\n",
    "print('NN score (augmented data) (train):', MSE(model, Xta, yta))\n",
    "print('NN score (augmented data) (val):', MSE(model, Xva, yva))"
   ]
  },
  {
   "cell_type": "code",
   "execution_count": null,
   "id": "01d6de9e",
   "metadata": {},
   "outputs": [],
   "source": [
    "# compute NN on data with feature selection\n",
    "model = nn.MLPRegressor(hidden_layer_sizes=(32, 16), early_stopping=True, alpha=.1).fit(Xtfs, ytfs)\n",
    "\n",
    "\n",
    "# print score\n",
    "print('NN score (feature selection) (train):', MSE(model, Xtfs, ytfs))\n",
    "print('NN score (feature selection) (val):', MSE(model, Xvfs, yvfs))"
   ]
  },
  {
   "cell_type": "markdown",
   "id": "f3d0acb7",
   "metadata": {},
   "source": [
    "#### Ensemble"
   ]
  },
  {
   "cell_type": "code",
   "execution_count": null,
   "id": "d4974604",
   "metadata": {},
   "outputs": [],
   "source": [
    "# compute ensemble on data with feature selection\n",
    "model1 = ens.GradientBoostingRegressor()\n",
    "model2 = ens.RandomForestRegressor(n_estimators=20)\n",
    "model3 = sv.SVR(kernel='rbf', C=1)\n",
    "model4 = lm.RidgeCV(alphas=np.arange(0.01, 5+0.01, 0.01))\n",
    "model5 = lm.LassoCV()\n",
    "model6 = nn.MLPRegressor(hidden_layer_sizes=(48, 16), early_stopping=False, alpha=1.0)\n",
    "\n",
    "# fit models\n",
    "model1.fit(X_train_augmented, y_train)\n",
    "model2.fit(X_train_augmented, y_train)\n",
    "model3.fit(X_train_augmented, y_train)\n",
    "model4.fit(X_train_augmented, y_train)\n",
    "model5.fit(X_train_augmented, y_train)\n",
    "model6.fit(X_train_augmented, y_train)\n",
    "\n",
    "# fit ensemble model\n",
    "model = ens.VotingRegressor(estimators=[('gb', model1),\n",
    "                                        ('rf', model2),\n",
    "                                        ('lr', model3),\n",
    "                                        ('ri', model4),\n",
    "                                        ('la', model5),\n",
    "                                        ('nn', model6)])\n",
    "\n",
    "model = model.fit(X_train_augmented, y_train)\n",
    "\n",
    "# predictions\n",
    "pred1 = model1.predict(Xva[:25])\n",
    "pred2 = model2.predict(Xva[:25])\n",
    "pred3 = model3.predict(Xva[:25])\n",
    "pred4 = model4.predict(Xva[:25])\n",
    "pred5 = model5.predict(Xva[:25])\n",
    "pred6 = model6.predict(Xva[:25])\n",
    "pred = model.predict(Xva[:25])\n",
    "\n",
    "plt.figure()\n",
    "plt.plot(pred1, \"gd\", label=\"GradientBoostingRegressor\")\n",
    "plt.plot(pred2, \"b^\", label=\"RandomForestRegressor\")\n",
    "plt.plot(pred3, \"ys\", label=\"SVR\")\n",
    "plt.plot(pred4, \"r*\", label=\"RidgeCV\")\n",
    "plt.plot(pred5, \"bd\", label=\"LassoCV\")\n",
    "plt.plot(pred6, \"y^\", label=\"MLPRegressor\")\n",
    "plt.plot(pred, \"rd\", label=\"Ensemble\")\n",
    "plt.plot(yva[:25], \"b*\", label=\"True\")\n",
    "\n",
    "plt.tick_params(axis=\"x\", which=\"both\", bottom=False, top=False, labelbottom=False)\n",
    "plt.ylabel(\"predicted\")\n",
    "plt.xlabel(\"training samples\")\n",
    "plt.legend(loc='center left', bbox_to_anchor=(1, 0.5))\n",
    "plt.title(\"Regressor predictions and their average\")\n",
    "\n",
    "plt.show()"
   ]
  },
  {
   "cell_type": "code",
   "execution_count": null,
   "id": "77a352a0",
   "metadata": {},
   "outputs": [],
   "source": [
    "# compute ensemble on data with feature selection\n",
    "model1 = ens.GradientBoostingRegressor()\n",
    "model2 = ens.RandomForestRegressor(n_estimators=20)\n",
    "model3 = sv.SVR(kernel='rbf', C=1)\n",
    "model4 = lm.RidgeCV(alphas=np.arange(0.01, 5+0.01, 0.01))\n",
    "model5 = lm.LassoCV()\n",
    "model6 = nn.MLPRegressor(hidden_layer_sizes=(48, 16), early_stopping=False, alpha=1.0)\n",
    "\n",
    "# fit models\n",
    "model1.fit(X_train_augmented, y_train)\n",
    "model2.fit(X_train_augmented, y_train)\n",
    "model3.fit(X_train_augmented, y_train)\n",
    "model4.fit(X_train_augmented, y_train)\n",
    "model5.fit(X_train_augmented, y_train)\n",
    "model6.fit(X_train_augmented, y_train)\n",
    "\n",
    "# fit ensemble model\n",
    "model = ens.VotingRegressor(estimators=[('gb', model1),\n",
    "                                        ('rf', model2),\n",
    "                                        ('lr', model3),\n",
    "                                        ('ri', model4),\n",
    "                                        ('la', model5),\n",
    "                                        ('nn', model6)])\n",
    "\n",
    "model = model.fit(X_train_augmented, y_train)"
   ]
  }
 ],
 "metadata": {
  "kernelspec": {
   "display_name": "work",
   "language": "python",
   "name": "work"
  },
  "language_info": {
   "codemirror_mode": {
    "name": "ipython",
    "version": 3
   },
   "file_extension": ".py",
   "mimetype": "text/x-python",
   "name": "python",
   "nbconvert_exporter": "python",
   "pygments_lexer": "ipython3",
   "version": "3.9.8"
  }
 },
 "nbformat": 4,
 "nbformat_minor": 5
}
